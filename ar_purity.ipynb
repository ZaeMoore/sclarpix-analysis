{
 "cells": [
  {
   "cell_type": "code",
   "execution_count": 40,
   "metadata": {},
   "outputs": [],
   "source": [
    "from functions import util as util\n",
    "from functions import event_parser as EvtParser\n",
    "from functions import hit_parser as HitParser\n",
    "\n",
    "import h5py\n",
    "import numpy as np\n",
    "import plotly.graph_objects as go\n",
    "import matplotlib.pyplot as plt\n",
    "import yaml\n",
    "from matplotlib import colors"
   ]
  },
  {
   "cell_type": "code",
   "execution_count": 41,
   "metadata": {},
   "outputs": [],
   "source": [
    "switch_xz = False\n",
    "# module0, 2x2, 2x2_MR4, ndlar, singlecube\n",
    "detector = \"singlecube\""
   ]
  },
  {
   "cell_type": "code",
   "execution_count": 42,
   "metadata": {},
   "outputs": [],
   "source": [
    "f = h5py.File('/Users/emoore06/Work/research/sclarpix_analysis/data/sc_muonshower_puritytest_larndsim.07.h5', 'r')\n",
    "packets = f['packets'] # readout\n",
    "segs = f['segments'] # Geant4 truth\n",
    "assn = f['mc_packets_assn'] # G4-readout association\n",
    "vtx = f['vertices']\n",
    "traj = f['trajectories']"
   ]
  },
  {
   "cell_type": "code",
   "execution_count": 43,
   "metadata": {},
   "outputs": [],
   "source": [
    "'''\n",
    "    Loading LArPix geometry and run configuration\n",
    "    Option 3: Build a LArPix geometry dictionary on the fly and load a run configuration yaml file\n",
    "'''\n",
    "from functions import geom_to_dict as DictBuilder\n",
    "geom_repo = '/Users/emoore06/Work/research/sclarpix_analysis/config_repo'\n",
    "larpix_layout_name = 'single_tile_layout-2.4.1'\n",
    "geom_dict = DictBuilder.larpix_layout_to_dict(larpix_layout_name, geom_repo, save_dict=False)\n",
    "\n",
    "run_config_path = '/Users/emoore06/Work/research/sclarpix_analysis/config_repo/singlecube.yaml'\n",
    "run_config = util.get_run_config(run_config_path)"
   ]
  },
  {
   "cell_type": "code",
   "execution_count": 44,
   "metadata": {},
   "outputs": [],
   "source": [
    "if switch_xz:\n",
    "    tpc_centers_tp = np.array(run_config['tpc_offsets'])\n",
    "    tpc_centers = np.copy(tpc_centers_tp)\n",
    "    tpc_centers[:,0] = tpc_centers_tp[:,2]\n",
    "    tpc_centers[:,2] = tpc_centers_tp[:,0]\n",
    "else:\n",
    "    tpc_centers = run_config['tpc_offsets']"
   ]
  },
  {
   "cell_type": "code",
   "execution_count": 45,
   "metadata": {},
   "outputs": [
    {
     "name": "stdout",
     "output_type": "stream",
     "text": [
      "Found no 'beam_duration' in the configuration file\n"
     ]
    }
   ],
   "source": [
    "pckt_event_ids = EvtParser.packet_to_eventid(assn, segs)\n",
    "event_ids = EvtParser.get_eventid(vtx)\n",
    "t0_grp = EvtParser.get_t0_event(vtx, run_config)"
   ]
  },
  {
   "cell_type": "code",
   "execution_count": 46,
   "metadata": {},
   "outputs": [],
   "source": [
    "xyzdQevents = []\n",
    "segevents = []\n",
    "zvals = []\n",
    "dQvals = []\n",
    "\n",
    "for i_ev, evt_id in enumerate(event_ids):\n",
    "\n",
    "    t0 = t0_grp[i_ev]\n",
    "    evt_id = event_ids[i_ev]\n",
    "\n",
    "    pckt_mask = pckt_event_ids == evt_id\n",
    "    packets_ev = packets[pckt_mask]\n",
    "    assn_ev = assn[pckt_mask]\n",
    "    seg_ev = segs[segs['event_id'] == evt_id]\n",
    "    \n",
    "    x,y,z,dQ, v_drift_arr, t_drift_arr = HitParser.hit_parser_charge(t0, packets_ev, geom_dict, run_config, switch_xz)\n",
    "\n",
    "    x = np.array(x) / 10. #Converting from mm to cm\n",
    "    y = np.array(y) / 10. #Converting from mm to cm\n",
    "    z = np.array(z) / 10. #Converting from mm to cm\n",
    "\n",
    "    segevents.append(seg_ev)\n",
    "    zvals.append(x) #x and z switched in larndsim :(\n",
    "    dQvals.append(dQ)\n",
    "    xyzdQevents.append((x,y,z,dQ))"
   ]
  },
  {
   "cell_type": "code",
   "execution_count": 47,
   "metadata": {},
   "outputs": [],
   "source": [
    "def flatten(xss):\n",
    "    return [x for xs in xss for x in xs]\n",
    "\n",
    "dQflat = np.array(flatten(dQvals))\n",
    "zflat = np.array(flatten(zvals))"
   ]
  },
  {
   "cell_type": "code",
   "execution_count": 48,
   "metadata": {},
   "outputs": [
    {
     "data": {
      "image/png": "[encoded data removed]",
      "text/plain": [
       "<Figure size 640x480 with 1 Axes>"
      ]
     },
     "metadata": {},
     "output_type": "display_data"
    }
   ],
   "source": [
    "def compute_profile(x, y, nbin=(100,100)):\n",
    "    \n",
    "    # use of the 2d hist by numpy to avoid plotting\n",
    "    h, xe, ye = np.histogram2d(x,y,nbin)\n",
    "    \n",
    "    # bin width\n",
    "    xbinw = xe[1]-xe[0]\n",
    "\n",
    "    # getting the mean and RMS values of each vertical slice of the 2D distribution\n",
    "    # also the x valuse should be recomputed because of the possibility of empty slices\n",
    "    x_array      = []\n",
    "    x_slice_mean = []\n",
    "    x_slice_rms  = []\n",
    "    for i in range(xe.size-1):\n",
    "        yvals = y[ (x>xe[i]) & (x<=xe[i+1]) ]\n",
    "        if yvals.size>0: # do not fill the quanties for empty slices\n",
    "            x_array.append(xe[i]+ xbinw/2)\n",
    "            x_slice_mean.append( yvals.mean())\n",
    "            x_slice_rms.append( yvals.std())\n",
    "    x_array = np.array(x_array)\n",
    "    x_slice_mean = np.array(x_slice_mean)\n",
    "    x_slice_rms = np.array(x_slice_rms)\n",
    "\n",
    "    return x_array, x_slice_mean, x_slice_rms\n",
    "\n",
    "#compute the profile\n",
    "p_x, p_mean, p_rms = compute_profile(zflat,dQflat,(70,70))\n",
    "\n",
    "fig = plt.figure()\n",
    "plt.errorbar(p_x, p_mean, p_rms,fmt='_', ecolor='r', color='r')\n",
    "plt.xlabel(\"Z\")\n",
    "plt.ylabel(\"Charge\")\n",
    "plt.title(\"Charge vs. Z profile\")\n",
    "plt.show()"
   ]
  },
  {
   "cell_type": "code",
   "execution_count": 49,
   "metadata": {},
   "outputs": [],
   "source": [
    "#Use scipy curve fit?"
   ]
  }
 ],
 "metadata": {
  "kernelspec": {
   "display_name": "Python 3",
   "language": "python",
   "name": "python3"
  },
  "language_info": {
   "codemirror_mode": {
    "name": "ipython",
    "version": 3
   },
   "file_extension": ".py",
   "mimetype": "text/x-python",
   "name": "python",
   "nbconvert_exporter": "python",
   "pygments_lexer": "ipython3",
   "version": "3.9.6"
  }
 },
 "nbformat": 4,
 "nbformat_minor": 2
}
