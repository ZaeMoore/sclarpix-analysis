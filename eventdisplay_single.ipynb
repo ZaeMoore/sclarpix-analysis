{
 "cells": [
  {
   "cell_type": "code",
   "execution_count": 241,
   "id": "c0f96def-cd86-458e-aef2-f0510457a3dc",
   "metadata": {},
   "outputs": [],
   "source": [
    "from functions import util as util\n",
    "from functions import event_parser as EvtParser\n",
    "from functions import hit_parser as HitParser\n",
    "\n",
    "import h5py\n",
    "import numpy as np\n",
    "import plotly.graph_objects as go\n",
    "import yaml"
   ]
  },
  {
   "cell_type": "code",
   "execution_count": 242,
   "id": "d54ee463-6c96-49a1-9ce4-3dee9ed1f230",
   "metadata": {},
   "outputs": [],
   "source": [
    "switch_xz = False\n",
    "# module0, 2x2, 2x2_MR4, ndlar, singlecube\n",
    "detector = \"singlecube\""
   ]
  },
  {
   "cell_type": "code",
   "execution_count": 243,
   "id": "3564fb51-3f16-4672-9263-47cc2899dabf",
   "metadata": {},
   "outputs": [],
   "source": [
    "def draw_cathode_planes(geom_dict, tpc_centers, **kwargs):\n",
    "    \n",
    "    pos = np.array(list(geom_dict.values())) / 10.\n",
    "    traces = []\n",
    "    for i_mod in range(len(tpc_centers)):\n",
    "        x = np.array([pos[:, 0].min() + tpc_centers[i_mod][2], pos[:, 0].max() + tpc_centers[i_mod][2]])\n",
    "        y = np.array([pos[:, 1].min() + tpc_centers[i_mod][1], pos[:, 1].max() + tpc_centers[i_mod][1]])\n",
    "        #z = np.full((2,2),  pos[:, 2].min())\n",
    "        z = np.full((2,2), -tpc_centers[i_mod][0])\n",
    "\n",
    "        traces.append(go.Surface(x=x, y=y, z=z, **kwargs))\n",
    "    \n",
    "    return traces"
   ]
  },
  {
   "cell_type": "code",
   "execution_count": 244,
   "id": "1541f7d4-22fb-4ef6-9d20-9571e770615d",
   "metadata": {},
   "outputs": [],
   "source": [
    "def draw_anode_planes(geom_dict, tpc_centers, **kwargs):\n",
    "    \n",
    "    pos = np.array(list(geom_dict.values())) / 10.\n",
    "    traces = []\n",
    "    \n",
    "    for i_mod in range(len(tpc_centers)):\n",
    "        x = np.array([pos[:, 0].min() + tpc_centers[i_mod][2], pos[:, 0].max() + tpc_centers[i_mod][2]])\n",
    "        y = np.array([pos[:, 1].min() + tpc_centers[i_mod][1], pos[:, 1].max() + tpc_centers[i_mod][1]])\n",
    "        z1 = np.full((2,2),  pos[:, 2].min() + tpc_centers[i_mod][0])\n",
    "        #z2 = np.full((2,2),  pos[:, 2].max() + tpc_centers[i_mod][0])\n",
    "        \n",
    "        traces.append(go.Surface(x=x, y=y, z=z1, **kwargs))\n",
    "        #traces.append(go.Surface(x=x, y=y, z=z2, **kwargs))\n",
    "    \n",
    "    return traces"
   ]
  },
  {
   "cell_type": "code",
   "execution_count": 245,
   "id": "c50fc86d-e1a7-4c2b-b544-f9849b69942c",
   "metadata": {},
   "outputs": [],
   "source": [
    "def plot_tracks(tracks, **kwargs):\n",
    "    \n",
    "    def to_list(axis):\n",
    "        return np.column_stack([\n",
    "            tracks[f'{axis}_start'],\n",
    "            tracks[f'{axis}_end'],\n",
    "            np.full(len(tracks), None)\n",
    "        ]).flatten().tolist()\n",
    "        \n",
    "    x, y, z = (to_list(axis) for axis in 'xyz')\n",
    "\n",
    "    trace = go.Scatter3d(x=z, y=y, z=x, **kwargs)\n",
    "    \n",
    "    return trace"
   ]
  },
  {
   "cell_type": "code",
   "execution_count": 246,
   "id": "6fa1c92a-322d-4b51-80a2-341edefacb70",
   "metadata": {},
   "outputs": [],
   "source": [
    "f = h5py.File('/Users/emoore06/Work/research/sclarpix_event_display/data/sc_egun_larndsim.01.h5', 'r')\n",
    "packets = f['packets'] # readout\n",
    "segs = f['segments'] # Geant4 truth\n",
    "assn = f['mc_packets_assn'] # G4-readout association\n",
    "vtx = f['vertices']\n",
    "traj = f['trajectories']"
   ]
  },
  {
   "cell_type": "code",
   "execution_count": 247,
   "id": "b6c7705a-6831-4ce0-899b-c411d49c5d83",
   "metadata": {},
   "outputs": [
    {
     "data": {
      "text/plain": [
       "\"\\n    Loading LArPix geometry and run configuration\\n    Option 1: Use the default, the installed package data\\n              It's recommended, if you are not doing something unusual.\\n\""
      ]
     },
     "execution_count": 247,
     "metadata": {},
     "output_type": "execute_result"
    }
   ],
   "source": [
    "'''\n",
    "    Loading LArPix geometry and run configuration\n",
    "    Option 1: Use the default, the installed package data\n",
    "              It's recommended, if you are not doing something unusual.\n",
    "'''\n",
    "\n",
    "#run_config, geom_dict = util.detector_configuration(detector)"
   ]
  },
  {
   "cell_type": "code",
   "execution_count": 248,
   "id": "ef69b3ff-f414-4387-832e-9a78b494655c",
   "metadata": {},
   "outputs": [
    {
     "data": {
      "text/plain": [
       "'\\n    Loading LArPix geometry and run configuration\\n    Option 2: Point a pre-load LArPix geometry dictionary stored in a pickle file and a run configuration yaml file\\n'"
      ]
     },
     "execution_count": 248,
     "metadata": {},
     "output_type": "execute_result"
    }
   ],
   "source": [
    "'''\n",
    "    Loading LArPix geometry and run configuration\n",
    "    Option 2: Point a pre-load LArPix geometry dictionary stored in a pickle file and a run configuration yaml file\n",
    "'''\n",
    "# geom_dict = util.load_geom_dict(\"../src/LarpixParser/config_repo/dict_repo/multi_tile_layout-3.0.40.pkl\")\n",
    "\n",
    "# run_config_path = '../src/LarpixParser/config_repo/ndlar-module.yaml'\n",
    "# run_config = util.get_run_config(run_config_path)"
   ]
  },
  {
   "cell_type": "code",
   "execution_count": 249,
   "id": "c51594dc-1698-459b-b99d-606e3e34c6b1",
   "metadata": {},
   "outputs": [],
   "source": [
    "'''\n",
    "    Loading LArPix geometry and run configuration\n",
    "    Option 3: Build a LArPix geometry dictionary on the fly and load a run configuration yaml file\n",
    "'''\n",
    "from functions import geom_to_dict as DictBuilder\n",
    "geom_repo = '/Users/emoore06/Work/research/sclarpix_event_display/config_repo'\n",
    "larpix_layout_name = 'single_tile_layout-2.4.1'\n",
    "geom_dict = DictBuilder.larpix_layout_to_dict(larpix_layout_name, geom_repo, save_dict=False)\n",
    "\n",
    "run_config_path = '/Users/emoore06/Work/research/sclarpix_event_display/config_repo/singlecube.yaml'\n",
    "run_config = util.get_run_config(run_config_path)"
   ]
  },
  {
   "cell_type": "code",
   "execution_count": 250,
   "id": "b6b0f918",
   "metadata": {},
   "outputs": [],
   "source": [
    "if switch_xz:\n",
    "    tpc_centers_tp = np.array(run_config['tpc_offsets'])\n",
    "    tpc_centers = np.copy(tpc_centers_tp)\n",
    "    tpc_centers[:,0] = tpc_centers_tp[:,2]\n",
    "    tpc_centers[:,2] = tpc_centers_tp[:,0]\n",
    "else:\n",
    "    tpc_centers = run_config['tpc_offsets']"
   ]
  },
  {
   "cell_type": "code",
   "execution_count": 251,
   "id": "f70ccd8c-c6b2-4c7a-8505-a8f2fa5afe50",
   "metadata": {},
   "outputs": [
    {
     "name": "stdout",
     "output_type": "stream",
     "text": [
      "Found no 'beam_duration' in the configuration file\n"
     ]
    }
   ],
   "source": [
    "pckt_event_ids = EvtParser.packet_to_eventid(assn, segs)\n",
    "event_ids = EvtParser.get_eventid(vtx)\n",
    "t0_grp = EvtParser.get_t0_event(vtx, run_config)"
   ]
  },
  {
   "cell_type": "code",
   "execution_count": 252,
   "id": "417abcd2-06b0-4a46-ba1e-f3a6841fda13",
   "metadata": {},
   "outputs": [],
   "source": [
    "i_ev = 2 #This is picking one event to look at, change value based on index in event_ids that matches a number in pckt_event_ids\n",
    "t0 = t0_grp[i_ev]\n",
    "evt_id = event_ids[i_ev]\n",
    "\n",
    "pckt_mask = pckt_event_ids == evt_id\n",
    "packets_ev = packets[pckt_mask]\n",
    "assn_ev = assn[pckt_mask]\n",
    "seg_ev = segs[segs['event_id'] == evt_id]\n",
    "timestamp = packets_ev['timestamp']\n",
    "#t0 = np.min(timestamp)\n",
    "    \n",
    "x,y,z,dQ, v_drift_arr, t_drift_arr = HitParser.hit_parser_charge(t0, packets_ev, geom_dict, run_config, switch_xz)\n",
    "\n",
    "x = np.array(x) / 10. #Converting from mm to cm\n",
    "y = np.array(y) / 10. #Converting from mm to cm\n",
    "z = np.array(z) / 100. -15.13 #Converting from mm to cm and undoing time conversion\n"
   ]
  },
  {
   "cell_type": "code",
   "execution_count": 253,
   "id": "887a1f0c",
   "metadata": {},
   "outputs": [
    {
     "data": {
      "text/plain": [
       "17"
      ]
     },
     "execution_count": 253,
     "metadata": {},
     "output_type": "execute_result"
    }
   ],
   "source": [
    "len(packets_ev)"
   ]
  },
  {
   "cell_type": "code",
   "execution_count": 254,
   "id": "0622bf31",
   "metadata": {},
   "outputs": [],
   "source": [
    "#x = 0.2217, y = 0.2217\n",
    "qtest = []\n",
    "ttest = []\n",
    "i = 0\n",
    "while i < len(x):\n",
    "    if float(\"{:.4f}\".format(x[i])) == float(\"{:.4f}\".format(y[i])) == 0.2217:\n",
    "        qtest.append(dQ[i])\n",
    "        ttest.append(t_drift_arr[i])\n",
    "    i+=1\n",
    "\n",
    "#fig1 = go.Figure()\n",
    "\n",
    "tracetest = go.Scatter(\n",
    "        x=ttest, y=qtest,\n",
    "        name='larpix packets',\n",
    "        mode='markers',\n",
    "        visible='legendonly',\n",
    "        marker_size=4,\n",
    "        marker_symbol='square',\n",
    "        showlegend=True,\n",
    "        opacity=1.\n",
    "        )\n",
    "\n",
    "#fig1.add_traces(tracetest)\n",
    "#fig1.show()\n"
   ]
  },
  {
   "cell_type": "code",
   "execution_count": 255,
   "id": "7eeb7935-aeb3-491b-82aa-b27e21f914b1",
   "metadata": {
    "tags": []
   },
   "outputs": [
    {
     "data": {
      "application/vnd.plotly.v1+json": {
       "config": {
        "plotlyServerURL": "https://plot.ly"
       },
       "data": [
        {
         "colorscale": [
          [
           0,
           "rgb(0, 0, 0)"
          ],
          [
           0.09090909090909091,
           "rgb(16, 16, 16)"
          ],
          [
           0.18181818181818182,
           "rgb(38, 38, 38)"
          ],
          [
           0.2727272727272727,
           "rgb(59, 59, 59)"
          ],
          [
           0.36363636363636365,
           "rgb(81, 80, 80)"
          ],
          [
           0.45454545454545453,
           "rgb(102, 101, 101)"
          ],
          [
           0.5454545454545454,
           "rgb(124, 123, 122)"
          ],
          [
           0.6363636363636364,
           "rgb(146, 146, 145)"
          ],
          [
           0.7272727272727273,
           "rgb(171, 171, 170)"
          ],
          [
           0.8181818181818182,
           "rgb(197, 197, 195)"
          ],
          [
           0.9090909090909091,
           "rgb(224, 224, 223)"
          ],
          [
           1,
           "rgb(254, 254, 253)"
          ]
         ],
         "opacity": 0.3,
         "showscale": false,
         "type": "surface",
         "x": [
          -15.297300000000002,
          15.297299999999998
         ],
         "y": [
          -15.297299999999998,
          15.297300000000002
         ],
         "z": [
          [
           15.13,
           15.13
          ],
          [
           15.13,
           15.13
          ]
         ]
        },
        {
         "colorscale": [
          [
           0,
           "rgb(0, 0, 0)"
          ],
          [
           0.09090909090909091,
           "rgb(16, 16, 16)"
          ],
          [
           0.18181818181818182,
           "rgb(38, 38, 38)"
          ],
          [
           0.2727272727272727,
           "rgb(59, 59, 59)"
          ],
          [
           0.36363636363636365,
           "rgb(81, 80, 80)"
          ],
          [
           0.45454545454545453,
           "rgb(102, 101, 101)"
          ],
          [
           0.5454545454545454,
           "rgb(124, 123, 122)"
          ],
          [
           0.6363636363636364,
           "rgb(146, 146, 145)"
          ],
          [
           0.7272727272727273,
           "rgb(171, 171, 170)"
          ],
          [
           0.8181818181818182,
           "rgb(197, 197, 195)"
          ],
          [
           0.9090909090909091,
           "rgb(224, 224, 223)"
          ],
          [
           1,
           "rgb(254, 254, 253)"
          ]
         ],
         "opacity": 0.3,
         "showscale": false,
         "type": "surface",
         "x": [
          -15.297300000000002,
          15.297299999999998
         ],
         "y": [
          -15.297299999999998,
          15.297300000000002
         ],
         "z": [
          [
           15.13,
           15.13
          ],
          [
           15.13,
           15.13
          ]
         ]
        },
        {
         "colorscale": [
          [
           0,
           "rgb(0, 0, 0)"
          ],
          [
           0.09090909090909091,
           "rgb(16, 16, 16)"
          ],
          [
           0.18181818181818182,
           "rgb(38, 38, 38)"
          ],
          [
           0.2727272727272727,
           "rgb(59, 59, 59)"
          ],
          [
           0.36363636363636365,
           "rgb(81, 80, 80)"
          ],
          [
           0.45454545454545453,
           "rgb(102, 101, 101)"
          ],
          [
           0.5454545454545454,
           "rgb(124, 123, 122)"
          ],
          [
           0.6363636363636364,
           "rgb(146, 146, 145)"
          ],
          [
           0.7272727272727273,
           "rgb(171, 171, 170)"
          ],
          [
           0.8181818181818182,
           "rgb(197, 197, 195)"
          ],
          [
           0.9090909090909091,
           "rgb(224, 224, 223)"
          ],
          [
           1,
           "rgb(254, 254, 253)"
          ]
         ],
         "opacity": 0.3,
         "showscale": false,
         "type": "surface",
         "x": [
          -15.297300000000002,
          15.297299999999998
         ],
         "y": [
          -15.297299999999998,
          15.297300000000002
         ],
         "z": [
          [
           15.13,
           15.13
          ],
          [
           15.13,
           15.13
          ]
         ]
        },
        {
         "colorscale": [
          [
           0,
           "rgb(0, 0, 0)"
          ],
          [
           0.09090909090909091,
           "rgb(16, 16, 16)"
          ],
          [
           0.18181818181818182,
           "rgb(38, 38, 38)"
          ],
          [
           0.2727272727272727,
           "rgb(59, 59, 59)"
          ],
          [
           0.36363636363636365,
           "rgb(81, 80, 80)"
          ],
          [
           0.45454545454545453,
           "rgb(102, 101, 101)"
          ],
          [
           0.5454545454545454,
           "rgb(124, 123, 122)"
          ],
          [
           0.6363636363636364,
           "rgb(146, 146, 145)"
          ],
          [
           0.7272727272727273,
           "rgb(171, 171, 170)"
          ],
          [
           0.8181818181818182,
           "rgb(197, 197, 195)"
          ],
          [
           0.9090909090909091,
           "rgb(224, 224, 223)"
          ],
          [
           1,
           "rgb(254, 254, 253)"
          ]
         ],
         "opacity": 0.3,
         "showscale": false,
         "type": "surface",
         "x": [
          -15.297300000000002,
          15.297299999999998
         ],
         "y": [
          -15.297299999999998,
          15.297300000000002
         ],
         "z": [
          [
           15.13,
           15.13
          ],
          [
           15.13,
           15.13
          ]
         ]
        },
        {
         "colorscale": [
          [
           0,
           "rgb(0, 0, 0)"
          ],
          [
           0.09090909090909091,
           "rgb(16, 16, 16)"
          ],
          [
           0.18181818181818182,
           "rgb(38, 38, 38)"
          ],
          [
           0.2727272727272727,
           "rgb(59, 59, 59)"
          ],
          [
           0.36363636363636365,
           "rgb(81, 80, 80)"
          ],
          [
           0.45454545454545453,
           "rgb(102, 101, 101)"
          ],
          [
           0.5454545454545454,
           "rgb(124, 123, 122)"
          ],
          [
           0.6363636363636364,
           "rgb(146, 146, 145)"
          ],
          [
           0.7272727272727273,
           "rgb(171, 171, 170)"
          ],
          [
           0.8181818181818182,
           "rgb(197, 197, 195)"
          ],
          [
           0.9090909090909091,
           "rgb(224, 224, 223)"
          ],
          [
           1,
           "rgb(254, 254, 253)"
          ]
         ],
         "opacity": 0.3,
         "showscale": false,
         "type": "surface",
         "x": [
          -15.297300000000002,
          15.297299999999998
         ],
         "y": [
          -15.297299999999998,
          15.297300000000002
         ],
         "z": [
          [
           15.13,
           15.13
          ],
          [
           15.13,
           15.13
          ]
         ]
        },
        {
         "colorscale": [
          [
           0,
           "rgb(0, 0, 0)"
          ],
          [
           0.09090909090909091,
           "rgb(16, 16, 16)"
          ],
          [
           0.18181818181818182,
           "rgb(38, 38, 38)"
          ],
          [
           0.2727272727272727,
           "rgb(59, 59, 59)"
          ],
          [
           0.36363636363636365,
           "rgb(81, 80, 80)"
          ],
          [
           0.45454545454545453,
           "rgb(102, 101, 101)"
          ],
          [
           0.5454545454545454,
           "rgb(124, 123, 122)"
          ],
          [
           0.6363636363636364,
           "rgb(146, 146, 145)"
          ],
          [
           0.7272727272727273,
           "rgb(171, 171, 170)"
          ],
          [
           0.8181818181818182,
           "rgb(197, 197, 195)"
          ],
          [
           0.9090909090909091,
           "rgb(224, 224, 223)"
          ],
          [
           1,
           "rgb(254, 254, 253)"
          ]
         ],
         "opacity": 0.3,
         "showscale": false,
         "type": "surface",
         "x": [
          -15.297300000000002,
          15.297299999999998
         ],
         "y": [
          -15.297299999999998,
          15.297300000000002
         ],
         "z": [
          [
           15.13,
           15.13
          ],
          [
           15.13,
           15.13
          ]
         ]
        },
        {
         "colorscale": [
          [
           0,
           "rgb(0, 0, 0)"
          ],
          [
           0.09090909090909091,
           "rgb(16, 16, 16)"
          ],
          [
           0.18181818181818182,
           "rgb(38, 38, 38)"
          ],
          [
           0.2727272727272727,
           "rgb(59, 59, 59)"
          ],
          [
           0.36363636363636365,
           "rgb(81, 80, 80)"
          ],
          [
           0.45454545454545453,
           "rgb(102, 101, 101)"
          ],
          [
           0.5454545454545454,
           "rgb(124, 123, 122)"
          ],
          [
           0.6363636363636364,
           "rgb(146, 146, 145)"
          ],
          [
           0.7272727272727273,
           "rgb(171, 171, 170)"
          ],
          [
           0.8181818181818182,
           "rgb(197, 197, 195)"
          ],
          [
           0.9090909090909091,
           "rgb(224, 224, 223)"
          ],
          [
           1,
           "rgb(254, 254, 253)"
          ]
         ],
         "opacity": 0.3,
         "showscale": false,
         "type": "surface",
         "x": [
          -15.297300000000002,
          15.297299999999998
         ],
         "y": [
          -15.297299999999998,
          15.297300000000002
         ],
         "z": [
          [
           15.13,
           15.13
          ],
          [
           15.13,
           15.13
          ]
         ]
        },
        {
         "colorscale": [
          [
           0,
           "rgb(0, 0, 0)"
          ],
          [
           0.09090909090909091,
           "rgb(16, 16, 16)"
          ],
          [
           0.18181818181818182,
           "rgb(38, 38, 38)"
          ],
          [
           0.2727272727272727,
           "rgb(59, 59, 59)"
          ],
          [
           0.36363636363636365,
           "rgb(81, 80, 80)"
          ],
          [
           0.45454545454545453,
           "rgb(102, 101, 101)"
          ],
          [
           0.5454545454545454,
           "rgb(124, 123, 122)"
          ],
          [
           0.6363636363636364,
           "rgb(146, 146, 145)"
          ],
          [
           0.7272727272727273,
           "rgb(171, 171, 170)"
          ],
          [
           0.8181818181818182,
           "rgb(197, 197, 195)"
          ],
          [
           0.9090909090909091,
           "rgb(224, 224, 223)"
          ],
          [
           1,
           "rgb(254, 254, 253)"
          ]
         ],
         "opacity": 0.3,
         "showscale": false,
         "type": "surface",
         "x": [
          -15.297300000000002,
          15.297299999999998
         ],
         "y": [
          -15.297299999999998,
          15.297300000000002
         ],
         "z": [
          [
           15.13,
           15.13
          ],
          [
           15.13,
           15.13
          ]
         ]
        },
        {
         "colorscale": [
          [
           0,
           "rgb(0, 0, 0)"
          ],
          [
           0.09090909090909091,
           "rgb(16, 16, 16)"
          ],
          [
           0.18181818181818182,
           "rgb(38, 38, 38)"
          ],
          [
           0.2727272727272727,
           "rgb(59, 59, 59)"
          ],
          [
           0.36363636363636365,
           "rgb(81, 80, 80)"
          ],
          [
           0.45454545454545453,
           "rgb(102, 101, 101)"
          ],
          [
           0.5454545454545454,
           "rgb(124, 123, 122)"
          ],
          [
           0.6363636363636364,
           "rgb(146, 146, 145)"
          ],
          [
           0.7272727272727273,
           "rgb(171, 171, 170)"
          ],
          [
           0.8181818181818182,
           "rgb(197, 197, 195)"
          ],
          [
           0.9090909090909091,
           "rgb(224, 224, 223)"
          ],
          [
           1,
           "rgb(254, 254, 253)"
          ]
         ],
         "opacity": 0.3,
         "showscale": false,
         "type": "surface",
         "x": [
          -15.297300000000002,
          15.297299999999998
         ],
         "y": [
          -15.297299999999998,
          15.297300000000002
         ],
         "z": [
          [
           15.13,
           15.13
          ],
          [
           15.13,
           15.13
          ]
         ]
        },
        {
         "colorscale": [
          [
           0,
           "rgb(0, 0, 0)"
          ],
          [
           0.09090909090909091,
           "rgb(16, 16, 16)"
          ],
          [
           0.18181818181818182,
           "rgb(38, 38, 38)"
          ],
          [
           0.2727272727272727,
           "rgb(59, 59, 59)"
          ],
          [
           0.36363636363636365,
           "rgb(81, 80, 80)"
          ],
          [
           0.45454545454545453,
           "rgb(102, 101, 101)"
          ],
          [
           0.5454545454545454,
           "rgb(124, 123, 122)"
          ],
          [
           0.6363636363636364,
           "rgb(146, 146, 145)"
          ],
          [
           0.7272727272727273,
           "rgb(171, 171, 170)"
          ],
          [
           0.8181818181818182,
           "rgb(197, 197, 195)"
          ],
          [
           0.9090909090909091,
           "rgb(224, 224, 223)"
          ],
          [
           1,
           "rgb(254, 254, 253)"
          ]
         ],
         "opacity": 0.3,
         "showscale": false,
         "type": "surface",
         "x": [
          -15.297300000000002,
          15.297299999999998
         ],
         "y": [
          -15.297299999999998,
          15.297300000000002
         ],
         "z": [
          [
           15.13,
           15.13
          ],
          [
           15.13,
           15.13
          ]
         ]
        },
        {
         "colorscale": [
          [
           0,
           "rgb(3, 5, 18)"
          ],
          [
           0.09090909090909091,
           "rgb(25, 25, 51)"
          ],
          [
           0.18181818181818182,
           "rgb(44, 42, 87)"
          ],
          [
           0.2727272727272727,
           "rgb(58, 60, 125)"
          ],
          [
           0.36363636363636365,
           "rgb(62, 83, 160)"
          ],
          [
           0.45454545454545453,
           "rgb(62, 109, 178)"
          ],
          [
           0.5454545454545454,
           "rgb(72, 134, 187)"
          ],
          [
           0.6363636363636364,
           "rgb(89, 159, 196)"
          ],
          [
           0.7272727272727273,
           "rgb(114, 184, 205)"
          ],
          [
           0.8181818181818182,
           "rgb(149, 207, 216)"
          ],
          [
           0.9090909090909091,
           "rgb(192, 229, 232)"
          ],
          [
           1,
           "rgb(234, 252, 253)"
          ]
         ],
         "opacity": 0.3,
         "showscale": false,
         "type": "surface",
         "x": [
          -15.297300000000002,
          15.297299999999998
         ],
         "y": [
          -15.297299999999998,
          15.297300000000002
         ],
         "z": [
          [
           -15.13,
           -15.13
          ],
          [
           -15.13,
           -15.13
          ]
         ]
        },
        {
         "colorscale": [
          [
           0,
           "rgb(3, 5, 18)"
          ],
          [
           0.09090909090909091,
           "rgb(25, 25, 51)"
          ],
          [
           0.18181818181818182,
           "rgb(44, 42, 87)"
          ],
          [
           0.2727272727272727,
           "rgb(58, 60, 125)"
          ],
          [
           0.36363636363636365,
           "rgb(62, 83, 160)"
          ],
          [
           0.45454545454545453,
           "rgb(62, 109, 178)"
          ],
          [
           0.5454545454545454,
           "rgb(72, 134, 187)"
          ],
          [
           0.6363636363636364,
           "rgb(89, 159, 196)"
          ],
          [
           0.7272727272727273,
           "rgb(114, 184, 205)"
          ],
          [
           0.8181818181818182,
           "rgb(149, 207, 216)"
          ],
          [
           0.9090909090909091,
           "rgb(192, 229, 232)"
          ],
          [
           1,
           "rgb(234, 252, 253)"
          ]
         ],
         "opacity": 0.3,
         "showscale": false,
         "type": "surface",
         "x": [
          -15.297300000000002,
          15.297299999999998
         ],
         "y": [
          -15.297299999999998,
          15.297300000000002
         ],
         "z": [
          [
           -15.13,
           -15.13
          ],
          [
           -15.13,
           -15.13
          ]
         ]
        },
        {
         "colorscale": [
          [
           0,
           "rgb(3, 5, 18)"
          ],
          [
           0.09090909090909091,
           "rgb(25, 25, 51)"
          ],
          [
           0.18181818181818182,
           "rgb(44, 42, 87)"
          ],
          [
           0.2727272727272727,
           "rgb(58, 60, 125)"
          ],
          [
           0.36363636363636365,
           "rgb(62, 83, 160)"
          ],
          [
           0.45454545454545453,
           "rgb(62, 109, 178)"
          ],
          [
           0.5454545454545454,
           "rgb(72, 134, 187)"
          ],
          [
           0.6363636363636364,
           "rgb(89, 159, 196)"
          ],
          [
           0.7272727272727273,
           "rgb(114, 184, 205)"
          ],
          [
           0.8181818181818182,
           "rgb(149, 207, 216)"
          ],
          [
           0.9090909090909091,
           "rgb(192, 229, 232)"
          ],
          [
           1,
           "rgb(234, 252, 253)"
          ]
         ],
         "opacity": 0.3,
         "showscale": false,
         "type": "surface",
         "x": [
          -15.297300000000002,
          15.297299999999998
         ],
         "y": [
          -15.297299999999998,
          15.297300000000002
         ],
         "z": [
          [
           -15.13,
           -15.13
          ],
          [
           -15.13,
           -15.13
          ]
         ]
        },
        {
         "colorscale": [
          [
           0,
           "rgb(3, 5, 18)"
          ],
          [
           0.09090909090909091,
           "rgb(25, 25, 51)"
          ],
          [
           0.18181818181818182,
           "rgb(44, 42, 87)"
          ],
          [
           0.2727272727272727,
           "rgb(58, 60, 125)"
          ],
          [
           0.36363636363636365,
           "rgb(62, 83, 160)"
          ],
          [
           0.45454545454545453,
           "rgb(62, 109, 178)"
          ],
          [
           0.5454545454545454,
           "rgb(72, 134, 187)"
          ],
          [
           0.6363636363636364,
           "rgb(89, 159, 196)"
          ],
          [
           0.7272727272727273,
           "rgb(114, 184, 205)"
          ],
          [
           0.8181818181818182,
           "rgb(149, 207, 216)"
          ],
          [
           0.9090909090909091,
           "rgb(192, 229, 232)"
          ],
          [
           1,
           "rgb(234, 252, 253)"
          ]
         ],
         "opacity": 0.3,
         "showscale": false,
         "type": "surface",
         "x": [
          -15.297300000000002,
          15.297299999999998
         ],
         "y": [
          -15.297299999999998,
          15.297300000000002
         ],
         "z": [
          [
           -15.13,
           -15.13
          ],
          [
           -15.13,
           -15.13
          ]
         ]
        },
        {
         "colorscale": [
          [
           0,
           "rgb(3, 5, 18)"
          ],
          [
           0.09090909090909091,
           "rgb(25, 25, 51)"
          ],
          [
           0.18181818181818182,
           "rgb(44, 42, 87)"
          ],
          [
           0.2727272727272727,
           "rgb(58, 60, 125)"
          ],
          [
           0.36363636363636365,
           "rgb(62, 83, 160)"
          ],
          [
           0.45454545454545453,
           "rgb(62, 109, 178)"
          ],
          [
           0.5454545454545454,
           "rgb(72, 134, 187)"
          ],
          [
           0.6363636363636364,
           "rgb(89, 159, 196)"
          ],
          [
           0.7272727272727273,
           "rgb(114, 184, 205)"
          ],
          [
           0.8181818181818182,
           "rgb(149, 207, 216)"
          ],
          [
           0.9090909090909091,
           "rgb(192, 229, 232)"
          ],
          [
           1,
           "rgb(234, 252, 253)"
          ]
         ],
         "opacity": 0.3,
         "showscale": false,
         "type": "surface",
         "x": [
          -15.297300000000002,
          15.297299999999998
         ],
         "y": [
          -15.297299999999998,
          15.297300000000002
         ],
         "z": [
          [
           -15.13,
           -15.13
          ],
          [
           -15.13,
           -15.13
          ]
         ]
        },
        {
         "colorscale": [
          [
           0,
           "rgb(3, 5, 18)"
          ],
          [
           0.09090909090909091,
           "rgb(25, 25, 51)"
          ],
          [
           0.18181818181818182,
           "rgb(44, 42, 87)"
          ],
          [
           0.2727272727272727,
           "rgb(58, 60, 125)"
          ],
          [
           0.36363636363636365,
           "rgb(62, 83, 160)"
          ],
          [
           0.45454545454545453,
           "rgb(62, 109, 178)"
          ],
          [
           0.5454545454545454,
           "rgb(72, 134, 187)"
          ],
          [
           0.6363636363636364,
           "rgb(89, 159, 196)"
          ],
          [
           0.7272727272727273,
           "rgb(114, 184, 205)"
          ],
          [
           0.8181818181818182,
           "rgb(149, 207, 216)"
          ],
          [
           0.9090909090909091,
           "rgb(192, 229, 232)"
          ],
          [
           1,
           "rgb(234, 252, 253)"
          ]
         ],
         "opacity": 0.3,
         "showscale": false,
         "type": "surface",
         "x": [
          -15.297300000000002,
          15.297299999999998
         ],
         "y": [
          -15.297299999999998,
          15.297300000000002
         ],
         "z": [
          [
           -15.13,
           -15.13
          ],
          [
           -15.13,
           -15.13
          ]
         ]
        },
        {
         "colorscale": [
          [
           0,
           "rgb(3, 5, 18)"
          ],
          [
           0.09090909090909091,
           "rgb(25, 25, 51)"
          ],
          [
           0.18181818181818182,
           "rgb(44, 42, 87)"
          ],
          [
           0.2727272727272727,
           "rgb(58, 60, 125)"
          ],
          [
           0.36363636363636365,
           "rgb(62, 83, 160)"
          ],
          [
           0.45454545454545453,
           "rgb(62, 109, 178)"
          ],
          [
           0.5454545454545454,
           "rgb(72, 134, 187)"
          ],
          [
           0.6363636363636364,
           "rgb(89, 159, 196)"
          ],
          [
           0.7272727272727273,
           "rgb(114, 184, 205)"
          ],
          [
           0.8181818181818182,
           "rgb(149, 207, 216)"
          ],
          [
           0.9090909090909091,
           "rgb(192, 229, 232)"
          ],
          [
           1,
           "rgb(234, 252, 253)"
          ]
         ],
         "opacity": 0.3,
         "showscale": false,
         "type": "surface",
         "x": [
          -15.297300000000002,
          15.297299999999998
         ],
         "y": [
          -15.297299999999998,
          15.297300000000002
         ],
         "z": [
          [
           -15.13,
           -15.13
          ],
          [
           -15.13,
           -15.13
          ]
         ]
        },
        {
         "colorscale": [
          [
           0,
           "rgb(3, 5, 18)"
          ],
          [
           0.09090909090909091,
           "rgb(25, 25, 51)"
          ],
          [
           0.18181818181818182,
           "rgb(44, 42, 87)"
          ],
          [
           0.2727272727272727,
           "rgb(58, 60, 125)"
          ],
          [
           0.36363636363636365,
           "rgb(62, 83, 160)"
          ],
          [
           0.45454545454545453,
           "rgb(62, 109, 178)"
          ],
          [
           0.5454545454545454,
           "rgb(72, 134, 187)"
          ],
          [
           0.6363636363636364,
           "rgb(89, 159, 196)"
          ],
          [
           0.7272727272727273,
           "rgb(114, 184, 205)"
          ],
          [
           0.8181818181818182,
           "rgb(149, 207, 216)"
          ],
          [
           0.9090909090909091,
           "rgb(192, 229, 232)"
          ],
          [
           1,
           "rgb(234, 252, 253)"
          ]
         ],
         "opacity": 0.3,
         "showscale": false,
         "type": "surface",
         "x": [
          -15.297300000000002,
          15.297299999999998
         ],
         "y": [
          -15.297299999999998,
          15.297300000000002
         ],
         "z": [
          [
           -15.13,
           -15.13
          ],
          [
           -15.13,
           -15.13
          ]
         ]
        },
        {
         "colorscale": [
          [
           0,
           "rgb(3, 5, 18)"
          ],
          [
           0.09090909090909091,
           "rgb(25, 25, 51)"
          ],
          [
           0.18181818181818182,
           "rgb(44, 42, 87)"
          ],
          [
           0.2727272727272727,
           "rgb(58, 60, 125)"
          ],
          [
           0.36363636363636365,
           "rgb(62, 83, 160)"
          ],
          [
           0.45454545454545453,
           "rgb(62, 109, 178)"
          ],
          [
           0.5454545454545454,
           "rgb(72, 134, 187)"
          ],
          [
           0.6363636363636364,
           "rgb(89, 159, 196)"
          ],
          [
           0.7272727272727273,
           "rgb(114, 184, 205)"
          ],
          [
           0.8181818181818182,
           "rgb(149, 207, 216)"
          ],
          [
           0.9090909090909091,
           "rgb(192, 229, 232)"
          ],
          [
           1,
           "rgb(234, 252, 253)"
          ]
         ],
         "opacity": 0.3,
         "showscale": false,
         "type": "surface",
         "x": [
          -15.297300000000002,
          15.297299999999998
         ],
         "y": [
          -15.297299999999998,
          15.297300000000002
         ],
         "z": [
          [
           -15.13,
           -15.13
          ],
          [
           -15.13,
           -15.13
          ]
         ]
        },
        {
         "colorscale": [
          [
           0,
           "rgb(3, 5, 18)"
          ],
          [
           0.09090909090909091,
           "rgb(25, 25, 51)"
          ],
          [
           0.18181818181818182,
           "rgb(44, 42, 87)"
          ],
          [
           0.2727272727272727,
           "rgb(58, 60, 125)"
          ],
          [
           0.36363636363636365,
           "rgb(62, 83, 160)"
          ],
          [
           0.45454545454545453,
           "rgb(62, 109, 178)"
          ],
          [
           0.5454545454545454,
           "rgb(72, 134, 187)"
          ],
          [
           0.6363636363636364,
           "rgb(89, 159, 196)"
          ],
          [
           0.7272727272727273,
           "rgb(114, 184, 205)"
          ],
          [
           0.8181818181818182,
           "rgb(149, 207, 216)"
          ],
          [
           0.9090909090909091,
           "rgb(192, 229, 232)"
          ],
          [
           1,
           "rgb(234, 252, 253)"
          ]
         ],
         "opacity": 0.3,
         "showscale": false,
         "type": "surface",
         "x": [
          -15.297300000000002,
          15.297299999999998
         ],
         "y": [
          -15.297299999999998,
          15.297300000000002
         ],
         "z": [
          [
           -15.13,
           -15.13
          ],
          [
           -15.13,
           -15.13
          ]
         ]
        },
        {
         "marker": {
          "color": [
           7.05078125,
           9.02734375,
           8.0390625,
           10.015625,
           8.0390625,
           8.0390625,
           7.05078125,
           8.0390625,
           7.05078125,
           8.0390625,
           8.0390625,
           8.0390625,
           7.05078125,
           7.05078125,
           8.0390625,
           9.02734375,
           9.02734375
          ],
          "size": 2,
          "symbol": "square"
         },
         "mode": "markers",
         "name": "larpix packets",
         "opacity": 1,
         "showlegend": true,
         "type": "scatter3d",
         "visible": "legendonly",
         "x": [
          -1.5519000000000005,
          -1.5519000000000005,
          -1.5519000000000005,
          -1.1085000000000007,
          -1.1085000000000007,
          -1.1085000000000007,
          -1.1085000000000007,
          -1.1085000000000007,
          -1.1085000000000007,
          -0.665100000000001,
          -0.665100000000001,
          -0.665100000000001,
          -0.665100000000001,
          -0.665100000000001,
          -0.22170000000000128,
          -0.22170000000000128,
          -0.22170000000000128
         ],
         "y": [
          -0.6650999999999982,
          -0.6650999999999982,
          -0.6650999999999982,
          -0.6650999999999982,
          -0.6650999999999982,
          -0.6650999999999982,
          -0.6650999999999982,
          -0.6650999999999982,
          -0.6650999999999982,
          -0.22169999999999845,
          -0.22169999999999845,
          -0.22169999999999845,
          -0.22169999999999845,
          -0.22169999999999845,
          -0.22169999999999845,
          -0.22169999999999845,
          -0.22169999999999845
         ],
         "z": [
          12.556115898601911,
          13.498022863072938,
          14.567646026116313,
          0.215538211549271,
          1.8758487929897303,
          3.823520821217963,
          5.467866877836878,
          7.399574381243559,
          8.868310664825506,
          -8.900205461551707,
          -7.287788454575878,
          -5.978697419209363,
          -4.190670639196561,
          -2.482466483291473,
          -12.34854282300497,
          -1.7321338166789602,
          -0.7263687529217577
         ]
        },
        {
         "mode": "lines",
         "name": "edep segments",
         "showlegend": true,
         "type": "scatter3d",
         "visible": "legendonly",
         "x": [
          -0.31045466661453247,
          -0.3641321659088135,
          null,
          -0.3641321659088135,
          -0.36683353781700134,
          null,
          -0.36683353781700134,
          -0.8991355299949646,
          null,
          -0.8991355299949646,
          -0.9367730021476746,
          null,
          -0.9367730021476746,
          -1.1826237440109253,
          null,
          -1.1826237440109253,
          -1.21280837059021,
          null,
          -1.21280837059021,
          -1.4576278924942017,
          null,
          -1.4576278924942017,
          -2.0279908180236816,
          null,
          -2.0279908180236816,
          -2.2499122619628906,
          null,
          -2.2499122619628906,
          -2.3663852214813232,
          null,
          -2.3663852214813232,
          -3.1848881244659424,
          null,
          -3.1848881244659424,
          -3.65234637260437,
          null,
          -3.65234637260437,
          -4.085048198699951,
          null,
          -4.085048198699951,
          -4.344367504119873,
          null,
          -4.344367504119873,
          -4.651857376098633,
          null,
          -4.651857376098633,
          -4.813718795776367,
          null,
          -4.813718795776367,
          -4.942192077636719,
          null,
          -4.942192077636719,
          -5.045516490936279,
          null,
          -5.045516490936279,
          -5.030121326446533,
          null,
          -5.366175651550293,
          -5.36625337600708,
          null,
          -11.581668853759766,
          -11.58128547668457,
          null,
          -6.0855326652526855,
          -6.085516452789307,
          null,
          -2.8171870708465576,
          -2.7769062519073486,
          null,
          -3.943965196609497,
          -3.943979501724243,
          null,
          -4.438782215118408,
          -4.4388346672058105,
          null,
          -11.930377006530762,
          -12.05049991607666,
          null,
          -6.726186752319336,
          -6.727122783660889,
          null,
          -4.272655010223389,
          -4.27843713760376,
          null,
          -5.401970386505127,
          -5.424960613250732,
          null,
          -5.223625659942627,
          -5.222768783569336,
          null,
          -7.3836445808410645,
          -7.383613586425781,
          null,
          -8.03830337524414,
          -8.040968894958496,
          null,
          -4.811866283416748,
          -4.8392014503479,
          null,
          -4.538050651550293,
          -4.511533260345459,
          null,
          -1.4576278924942017,
          -1.65245521068573,
          null,
          -1.65245521068573,
          -1.8483284711837769,
          null,
          -1.8483284711837769,
          -1.8018982410430908,
          null,
          -1.8018982410430908,
          -1.8789305686950684,
          null,
          -1.8789305686950684,
          -1.987555980682373,
          null,
          -1.987555980682373,
          -1.9899413585662842,
          null,
          -1.480127215385437,
          -1.4624884128570557,
          null,
          -1.48453688621521,
          -1.4845668077468872,
          null,
          -7.785686492919922,
          -7.802107334136963,
          null,
          -7.140714168548584,
          -7.149877548217773,
          null,
          -1.912779688835144,
          -1.9067414999008179,
          null,
          -2.604473114013672,
          -2.6470303535461426,
          null,
          -0.8991355299949646,
          -0.9206387400627136,
          null,
          -0.9206387400627136,
          -0.9343274235725403,
          null,
          -0.9343274235725403,
          -0.935498058795929,
          null,
          -6.661644458770752,
          -6.691275596618652,
          null,
          -3.537147283554077,
          -3.5372419357299805,
          null,
          -2.040498733520508,
          -2.040477991104126,
          null,
          -1.9444688558578491,
          -1.943416714668274,
          null,
          -2.2822699546813965,
          -2.3327291011810303,
          null,
          -2.3327291011810303,
          -2.2543675899505615,
          null,
          -2.2543675899505615,
          -2.2148849964141846,
          null,
          -4.451918601989746,
          -4.454168796539307,
          null,
          -3.6039652824401855,
          -3.61149001121521,
          null,
          1.0487635135650635,
          1.0491690635681152,
          null,
          -0.7014830112457275,
          -0.6852142214775085,
          null,
          -0.7055502533912659,
          -0.705590009689331,
          null,
          0.3800307512283325,
          0.3800727128982544,
          null,
          -0.5060142874717712,
          -0.5060209035873413,
          null,
          -4.514065742492676,
          -4.514017581939697,
          null,
          -4.641160488128662,
          -4.641152858734131,
          null,
          -4.906209945678711,
          -4.906223773956299,
          null,
          -4.942751407623291,
          -4.943587303161621,
          null,
          -0.6804516911506653,
          -0.6782744526863098,
          null,
          -3.108314037322998,
          -3.059359312057495,
          null,
          -5.940385341644287,
          -5.940490245819092,
          null,
          -4.457433223724365,
          -4.457192897796631,
          null,
          -7.03784704208374,
          -7.038029193878174,
          null,
          -7.336402893066406,
          -7.340753555297852,
          null,
          -6.028562545776367,
          -6.029172420501709,
          null,
          0.02425328455865383,
          0.02423115447163582,
          null,
          3.4302468299865723,
          3.4347622394561768,
          null,
          4.064496994018555,
          4.194736957550049,
          null,
          4.194736957550049,
          4.346354007720947,
          null,
          4.346354007720947,
          4.17672872543335,
          null,
          4.17672872543335,
          4.164764404296875,
          null,
          -0.17606645822525024,
          -0.2987027168273926,
          null,
          -0.2987027168273926,
          -0.45561957359313965,
          null,
          -0.45561957359313965,
          -0.45498767495155334,
          null,
          -0.45498767495155334,
          -0.4518077075481415,
          null,
          -0.05193931981921196,
          -0.051893822848796844,
          null,
          -0.18482767045497894,
          -0.18508046865463257,
          null
         ],
         "y": [
          -0.21090911328792572,
          -0.22042618691921234,
          null,
          -0.22042618691921234,
          -0.2210407704114914,
          null,
          -0.2210407704114914,
          -0.4607832133769989,
          null,
          -0.4607832133769989,
          -0.4741024374961853,
          null,
          -0.4741024374961853,
          -0.60926753282547,
          null,
          -0.60926753282547,
          -0.6329238414764404,
          null,
          -0.6329238414764404,
          -0.7721466422080994,
          null,
          -0.7721466422080994,
          -1.6305476427078247,
          null,
          -1.6305476427078247,
          -1.9767454862594604,
          null,
          -1.9767454862594604,
          -2.2511072158813477,
          null,
          -2.2511072158813477,
          -2.828691005706787,
          null,
          -2.828691005706787,
          -2.9341344833374023,
          null,
          -2.9341344833374023,
          -3.0022146701812744,
          null,
          -3.0022146701812744,
          -3.227771759033203,
          null,
          -3.227771759033203,
          -3.4213216304779053,
          null,
          -3.4213216304779053,
          -3.327526807785034,
          null,
          -3.327526807785034,
          -3.389108180999756,
          null,
          -3.389108180999756,
          -3.468252182006836,
          null,
          -3.468252182006836,
          -3.502230644226074,
          null,
          -4.060661792755127,
          -4.060708999633789,
          null,
          -11.852564811706543,
          -11.853645324707031,
          null,
          -4.978931427001953,
          -4.977885723114014,
          null,
          10.991487503051758,
          11.020646095275879,
          null,
          10.175830841064453,
          10.175847053527832,
          null,
          9.435175895690918,
          9.435179710388184,
          null,
          -8.218039512634277,
          -8.329834938049316,
          null,
          -4.194795608520508,
          -4.1907572746276855,
          null,
          -2.9902548789978027,
          -2.983800172805786,
          null,
          -4.992376327514648,
          -4.981722354888916,
          null,
          -5.075024604797363,
          -5.075049877166748,
          null,
          -6.4187188148498535,
          -6.418740272521973,
          null,
          -6.2552032470703125,
          -6.256158828735352,
          null,
          -8.10509204864502,
          -8.155828475952148,
          null,
          -7.622992515563965,
          -7.632725238800049,
          null,
          -0.7721466422080994,
          -0.7422436475753784,
          null,
          -0.7422436475753784,
          -0.7746782302856445,
          null,
          -0.7746782302856445,
          -0.7071185111999512,
          null,
          -0.7071185111999512,
          -0.6105501651763916,
          null,
          -0.6105501651763916,
          -0.5690745115280151,
          null,
          -0.5690745115280151,
          -0.573538601398468,
          null,
          -0.6438154578208923,
          -0.6436526775360107,
          null,
          -0.6438561677932739,
          -0.6438561081886292,
          null,
          -13.05895709991455,
          -13.012998580932617,
          null,
          -14.864058494567871,
          -14.893770217895508,
          null,
          -6.064930438995361,
          -6.067057132720947,
          null,
          -1.4028396606445312,
          -1.3563752174377441,
          null,
          -0.4607832133769989,
          -0.5810779929161072,
          null,
          -0.5810779929161072,
          -0.6662285923957825,
          null,
          -0.6662285923957825,
          -0.6657756567001343,
          null,
          3.370927095413208,
          3.3957860469818115,
          null,
          0.7496393918991089,
          0.7497138381004333,
          null,
          -0.4855608642101288,
          -0.4855670928955078,
          null,
          -0.6074008941650391,
          -0.6077359914779663,
          null,
          -0.6295642852783203,
          -0.6381536722183228,
          null,
          -0.6381536722183228,
          -0.6657712459564209,
          null,
          -0.6657712459564209,
          -0.6648357510566711,
          null,
          11.405750274658203,
          11.407700538635254,
          null,
          -0.9639570713043213,
          -0.9797866344451904,
          null,
          -0.23666726052761078,
          -0.23602241277694702,
          null,
          2.0306262969970703,
          2.002398729324341,
          null,
          2.0376832485198975,
          2.03773832321167,
          null,
          1.1360279321670532,
          1.1360429525375366,
          null,
          -0.33386164903640747,
          -0.3338715434074402,
          null,
          1.3248138427734375,
          1.3248441219329834,
          null,
          1.1915127038955688,
          1.191495418548584,
          null,
          1.2800233364105225,
          1.280019998550415,
          null,
          1.4452012777328491,
          1.445779800415039,
          null,
          -0.43188393115997314,
          -0.4333721399307251,
          null,
          8.919410705566406,
          8.921041488647461,
          null,
          8.823150634765625,
          8.823217391967773,
          null,
          1.1251145601272583,
          1.1249366998672485,
          null,
          1.65846848487854,
          1.658867359161377,
          null,
          0.6607308983802795,
          0.6559949517250061,
          null,
          1.54322350025177,
          1.5463988780975342,
          null,
          -1.8368077278137207,
          -1.8369203805923462,
          null,
          -2.3438119888305664,
          -2.3649163246154785,
          null,
          -0.32000482082366943,
          -0.26227423548698425,
          null,
          -0.26227423548698425,
          -0.4284621775150299,
          null,
          -0.4284621775150299,
          -0.5540700554847717,
          null,
          -0.5540700554847717,
          -0.5912144780158997,
          null,
          -0.34895870089530945,
          -0.37672609090805054,
          null,
          -0.37672609090805054,
          -0.40629416704177856,
          null,
          -0.40629416704177856,
          -0.33861854672431946,
          null,
          -0.33861854672431946,
          -0.3394022285938263,
          null,
          -1.1448551416397095,
          -1.144887924194336,
          null,
          -0.1494496464729309,
          -0.1482057273387909,
          null
         ],
         "z": [
          -14.551674842834473,
          -14.254240036010742,
          null,
          -14.254240036010742,
          -14.243658065795898,
          null,
          -14.243658065795898,
          -12.21950626373291,
          null,
          -12.21950626373291,
          -12.06821346282959,
          null,
          -12.06821346282959,
          -11.001646041870117,
          null,
          -11.001646041870117,
          -10.84991455078125,
          null,
          -10.84991455078125,
          -9.862016677856445,
          null,
          -9.862016677856445,
          -7.680255889892578,
          null,
          -7.680255889892578,
          -6.80589485168457,
          null,
          -6.80589485168457,
          -6.391507625579834,
          null,
          -6.391507625579834,
          -5.6431427001953125,
          null,
          -5.6431427001953125,
          -5.227841854095459,
          null,
          -5.227841854095459,
          -4.90730619430542,
          null,
          -4.90730619430542,
          -4.579402446746826,
          null,
          -4.579402446746826,
          -4.641016483306885,
          null,
          -4.641016483306885,
          -4.794036865234375,
          null,
          -4.794036865234375,
          -4.941539764404297,
          null,
          -4.941539764404297,
          -4.990558624267578,
          null,
          -4.990558624267578,
          -5.015957355499268,
          null,
          -7.357468128204346,
          -7.35748291015625,
          null,
          0.47986674308776855,
          0.47951698303222656,
          null,
          -2.255275249481201,
          -2.2520487308502197,
          null,
          -10.739540100097656,
          -10.734322547912598,
          null,
          -10.885504722595215,
          -10.885507583618164,
          null,
          -10.927874565124512,
          -10.928040504455566,
          null,
          1.1041868925094604,
          1.1404008865356445,
          null,
          -2.220937728881836,
          -2.2137904167175293,
          null,
          -4.7406229972839355,
          -4.74029016494751,
          null,
          12.25361156463623,
          12.210508346557617,
          null,
          12.587980270385742,
          12.590849876403809,
          null,
          0.5702285766601562,
          0.5702203512191772,
          null,
          -0.553766131401062,
          -0.5536835789680481,
          null,
          2.730740547180176,
          2.715118169784546,
          null,
          2.442549228668213,
          2.5258078575134277,
          null,
          -9.862016677856445,
          -9.478669166564941,
          null,
          -9.478669166564941,
          -9.266528129577637,
          null,
          -9.266528129577637,
          -9.070920944213867,
          null,
          -9.070920944213867,
          -8.978678703308105,
          null,
          -8.978678703308105,
          -9.048467636108398,
          null,
          -9.048467636108398,
          -9.051701545715332,
          null,
          -9.053699493408203,
          -9.043819427490234,
          null,
          -9.056169509887695,
          -9.05615234375,
          null,
          4.461653232574463,
          4.450779438018799,
          null,
          4.8887457847595215,
          4.905179977416992,
          null,
          -1.3728891611099243,
          -1.3701066970825195,
          null,
          -5.292117118835449,
          -5.223806858062744,
          null,
          -12.21950626373291,
          -12.106913566589355,
          null,
          -12.106913566589355,
          -12.140533447265625,
          null,
          -12.140533447265625,
          -12.14581298828125,
          null,
          -5.239672660827637,
          -5.207986354827881,
          null,
          -8.580894470214844,
          -8.581470489501953,
          null,
          -7.352370738983154,
          -7.352393627166748,
          null,
          -7.117099285125732,
          -7.11719274520874,
          null,
          -6.740419864654541,
          -6.583984375,
          null,
          -6.583984375,
          -6.513228893280029,
          null,
          -6.513228893280029,
          -6.537513732910156,
          null,
          2.327354669570923,
          2.327535390853882,
          null,
          -1.2341419458389282,
          -1.2080329656600952,
          null,
          -14.266233444213867,
          -14.265365600585938,
          null,
          -8.469122886657715,
          -8.45164680480957,
          null,
          -8.473491668701172,
          -8.473490715026855,
          null,
          -9.139020919799805,
          -9.139009475708008,
          null,
          -10.695661544799805,
          -10.695655822753906,
          null,
          -11.742920875549316,
          -11.742633819580078,
          null,
          -12.007301330566406,
          -12.007303237915039,
          null,
          -12.312347412109375,
          -12.31234073638916,
          null,
          -12.773932456970215,
          -12.77525520324707,
          null,
          -9.127732276916504,
          -9.117666244506836,
          null,
          0.1534646898508072,
          0.16350336372852325,
          null,
          -0.3629688322544098,
          -0.36304882168769836,
          null,
          7.574357509613037,
          7.574480056762695,
          null,
          7.613466262817383,
          7.613394260406494,
          null,
          7.8377604484558105,
          7.839974880218506,
          null,
          7.230329990386963,
          7.231375694274902,
          null,
          2.8325905799865723,
          2.832636594772339,
          null,
          0.02388545125722885,
          0.027826843783259392,
          null,
          -1.2937588691711426,
          -1.0324031114578247,
          null,
          -1.0324031114578247,
          -1.019943356513977,
          null,
          -1.019943356513977,
          -1.0106114149093628,
          null,
          -1.0106114149093628,
          -1.023282766342163,
          null,
          -12.554461479187012,
          -12.297024726867676,
          null,
          -12.297024726867676,
          -12.286483764648438,
          null,
          -12.286483764648438,
          -12.403209686279297,
          null,
          -12.403209686279297,
          -12.402329444885254,
          null,
          -14.497499465942383,
          -14.497485160827637,
          null,
          -13.883745193481445,
          -13.88033390045166,
          null
         ]
        }
       ],
       "layout": {
        "height": 768,
        "legend": {
         "orientation": "h"
        },
        "scene": {
         "zaxis": {
          "range": [
           -35,
           35
          ]
         }
        },
        "template": {
         "data": {
          "bar": [
           {
            "error_x": {
             "color": "#2a3f5f"
            },
            "error_y": {
             "color": "#2a3f5f"
            },
            "marker": {
             "line": {
              "color": "#E5ECF6",
              "width": 0.5
             },
             "pattern": {
              "fillmode": "overlay",
              "size": 10,
              "solidity": 0.2
             }
            },
            "type": "bar"
           }
          ],
          "barpolar": [
           {
            "marker": {
             "line": {
              "color": "#E5ECF6",
              "width": 0.5
             },
             "pattern": {
              "fillmode": "overlay",
              "size": 10,
              "solidity": 0.2
             }
            },
            "type": "barpolar"
           }
          ],
          "carpet": [
           {
            "aaxis": {
             "endlinecolor": "#2a3f5f",
             "gridcolor": "white",
             "linecolor": "white",
             "minorgridcolor": "white",
             "startlinecolor": "#2a3f5f"
            },
            "baxis": {
             "endlinecolor": "#2a3f5f",
             "gridcolor": "white",
             "linecolor": "white",
             "minorgridcolor": "white",
             "startlinecolor": "#2a3f5f"
            },
            "type": "carpet"
           }
          ],
          "choropleth": [
           {
            "colorbar": {
             "outlinewidth": 0,
             "ticks": ""
            },
            "type": "choropleth"
           }
          ],
          "contour": [
           {
            "colorbar": {
             "outlinewidth": 0,
             "ticks": ""
            },
            "colorscale": [
             [
              0,
              "#0d0887"
             ],
             [
              0.1111111111111111,
              "#46039f"
             ],
             [
              0.2222222222222222,
              "#7201a8"
             ],
             [
              0.3333333333333333,
              "#9c179e"
             ],
             [
              0.4444444444444444,
              "#bd3786"
             ],
             [
              0.5555555555555556,
              "#d8576b"
             ],
             [
              0.6666666666666666,
              "#ed7953"
             ],
             [
              0.7777777777777778,
              "#fb9f3a"
             ],
             [
              0.8888888888888888,
              "#fdca26"
             ],
             [
              1,
              "#f0f921"
             ]
            ],
            "type": "contour"
           }
          ],
          "contourcarpet": [
           {
            "colorbar": {
             "outlinewidth": 0,
             "ticks": ""
            },
            "type": "contourcarpet"
           }
          ],
          "heatmap": [
           {
            "colorbar": {
             "outlinewidth": 0,
             "ticks": ""
            },
            "colorscale": [
             [
              0,
              "#0d0887"
             ],
             [
              0.1111111111111111,
              "#46039f"
             ],
             [
              0.2222222222222222,
              "#7201a8"
             ],
             [
              0.3333333333333333,
              "#9c179e"
             ],
             [
              0.4444444444444444,
              "#bd3786"
             ],
             [
              0.5555555555555556,
              "#d8576b"
             ],
             [
              0.6666666666666666,
              "#ed7953"
             ],
             [
              0.7777777777777778,
              "#fb9f3a"
             ],
             [
              0.8888888888888888,
              "#fdca26"
             ],
             [
              1,
              "#f0f921"
             ]
            ],
            "type": "heatmap"
           }
          ],
          "heatmapgl": [
           {
            "colorbar": {
             "outlinewidth": 0,
             "ticks": ""
            },
            "colorscale": [
             [
              0,
              "#0d0887"
             ],
             [
              0.1111111111111111,
              "#46039f"
             ],
             [
              0.2222222222222222,
              "#7201a8"
             ],
             [
              0.3333333333333333,
              "#9c179e"
             ],
             [
              0.4444444444444444,
              "#bd3786"
             ],
             [
              0.5555555555555556,
              "#d8576b"
             ],
             [
              0.6666666666666666,
              "#ed7953"
             ],
             [
              0.7777777777777778,
              "#fb9f3a"
             ],
             [
              0.8888888888888888,
              "#fdca26"
             ],
             [
              1,
              "#f0f921"
             ]
            ],
            "type": "heatmapgl"
           }
          ],
          "histogram": [
           {
            "marker": {
             "pattern": {
              "fillmode": "overlay",
              "size": 10,
              "solidity": 0.2
             }
            },
            "type": "histogram"
           }
          ],
          "histogram2d": [
           {
            "colorbar": {
             "outlinewidth": 0,
             "ticks": ""
            },
            "colorscale": [
             [
              0,
              "#0d0887"
             ],
             [
              0.1111111111111111,
              "#46039f"
             ],
             [
              0.2222222222222222,
              "#7201a8"
             ],
             [
              0.3333333333333333,
              "#9c179e"
             ],
             [
              0.4444444444444444,
              "#bd3786"
             ],
             [
              0.5555555555555556,
              "#d8576b"
             ],
             [
              0.6666666666666666,
              "#ed7953"
             ],
             [
              0.7777777777777778,
              "#fb9f3a"
             ],
             [
              0.8888888888888888,
              "#fdca26"
             ],
             [
              1,
              "#f0f921"
             ]
            ],
            "type": "histogram2d"
           }
          ],
          "histogram2dcontour": [
           {
            "colorbar": {
             "outlinewidth": 0,
             "ticks": ""
            },
            "colorscale": [
             [
              0,
              "#0d0887"
             ],
             [
              0.1111111111111111,
              "#46039f"
             ],
             [
              0.2222222222222222,
              "#7201a8"
             ],
             [
              0.3333333333333333,
              "#9c179e"
             ],
             [
              0.4444444444444444,
              "#bd3786"
             ],
             [
              0.5555555555555556,
              "#d8576b"
             ],
             [
              0.6666666666666666,
              "#ed7953"
             ],
             [
              0.7777777777777778,
              "#fb9f3a"
             ],
             [
              0.8888888888888888,
              "#fdca26"
             ],
             [
              1,
              "#f0f921"
             ]
            ],
            "type": "histogram2dcontour"
           }
          ],
          "mesh3d": [
           {
            "colorbar": {
             "outlinewidth": 0,
             "ticks": ""
            },
            "type": "mesh3d"
           }
          ],
          "parcoords": [
           {
            "line": {
             "colorbar": {
              "outlinewidth": 0,
              "ticks": ""
             }
            },
            "type": "parcoords"
           }
          ],
          "pie": [
           {
            "automargin": true,
            "type": "pie"
           }
          ],
          "scatter": [
           {
            "fillpattern": {
             "fillmode": "overlay",
             "size": 10,
             "solidity": 0.2
            },
            "type": "scatter"
           }
          ],
          "scatter3d": [
           {
            "line": {
             "colorbar": {
              "outlinewidth": 0,
              "ticks": ""
             }
            },
            "marker": {
             "colorbar": {
              "outlinewidth": 0,
              "ticks": ""
             }
            },
            "type": "scatter3d"
           }
          ],
          "scattercarpet": [
           {
            "marker": {
             "colorbar": {
              "outlinewidth": 0,
              "ticks": ""
             }
            },
            "type": "scattercarpet"
           }
          ],
          "scattergeo": [
           {
            "marker": {
             "colorbar": {
              "outlinewidth": 0,
              "ticks": ""
             }
            },
            "type": "scattergeo"
           }
          ],
          "scattergl": [
           {
            "marker": {
             "colorbar": {
              "outlinewidth": 0,
              "ticks": ""
             }
            },
            "type": "scattergl"
           }
          ],
          "scattermapbox": [
           {
            "marker": {
             "colorbar": {
              "outlinewidth": 0,
              "ticks": ""
             }
            },
            "type": "scattermapbox"
           }
          ],
          "scatterpolar": [
           {
            "marker": {
             "colorbar": {
              "outlinewidth": 0,
              "ticks": ""
             }
            },
            "type": "scatterpolar"
           }
          ],
          "scatterpolargl": [
           {
            "marker": {
             "colorbar": {
              "outlinewidth": 0,
              "ticks": ""
             }
            },
            "type": "scatterpolargl"
           }
          ],
          "scatterternary": [
           {
            "marker": {
             "colorbar": {
              "outlinewidth": 0,
              "ticks": ""
             }
            },
            "type": "scatterternary"
           }
          ],
          "surface": [
           {
            "colorbar": {
             "outlinewidth": 0,
             "ticks": ""
            },
            "colorscale": [
             [
              0,
              "#0d0887"
             ],
             [
              0.1111111111111111,
              "#46039f"
             ],
             [
              0.2222222222222222,
              "#7201a8"
             ],
             [
              0.3333333333333333,
              "#9c179e"
             ],
             [
              0.4444444444444444,
              "#bd3786"
             ],
             [
              0.5555555555555556,
              "#d8576b"
             ],
             [
              0.6666666666666666,
              "#ed7953"
             ],
             [
              0.7777777777777778,
              "#fb9f3a"
             ],
             [
              0.8888888888888888,
              "#fdca26"
             ],
             [
              1,
              "#f0f921"
             ]
            ],
            "type": "surface"
           }
          ],
          "table": [
           {
            "cells": {
             "fill": {
              "color": "#EBF0F8"
             },
             "line": {
              "color": "white"
             }
            },
            "header": {
             "fill": {
              "color": "#C8D4E3"
             },
             "line": {
              "color": "white"
             }
            },
            "type": "table"
           }
          ]
         },
         "layout": {
          "annotationdefaults": {
           "arrowcolor": "#2a3f5f",
           "arrowhead": 0,
           "arrowwidth": 1
          },
          "autotypenumbers": "strict",
          "coloraxis": {
           "colorbar": {
            "outlinewidth": 0,
            "ticks": ""
           }
          },
          "colorscale": {
           "diverging": [
            [
             0,
             "#8e0152"
            ],
            [
             0.1,
             "#c51b7d"
            ],
            [
             0.2,
             "#de77ae"
            ],
            [
             0.3,
             "#f1b6da"
            ],
            [
             0.4,
             "#fde0ef"
            ],
            [
             0.5,
             "#f7f7f7"
            ],
            [
             0.6,
             "#e6f5d0"
            ],
            [
             0.7,
             "#b8e186"
            ],
            [
             0.8,
             "#7fbc41"
            ],
            [
             0.9,
             "#4d9221"
            ],
            [
             1,
             "#276419"
            ]
           ],
           "sequential": [
            [
             0,
             "#0d0887"
            ],
            [
             0.1111111111111111,
             "#46039f"
            ],
            [
             0.2222222222222222,
             "#7201a8"
            ],
            [
             0.3333333333333333,
             "#9c179e"
            ],
            [
             0.4444444444444444,
             "#bd3786"
            ],
            [
             0.5555555555555556,
             "#d8576b"
            ],
            [
             0.6666666666666666,
             "#ed7953"
            ],
            [
             0.7777777777777778,
             "#fb9f3a"
            ],
            [
             0.8888888888888888,
             "#fdca26"
            ],
            [
             1,
             "#f0f921"
            ]
           ],
           "sequentialminus": [
            [
             0,
             "#0d0887"
            ],
            [
             0.1111111111111111,
             "#46039f"
            ],
            [
             0.2222222222222222,
             "#7201a8"
            ],
            [
             0.3333333333333333,
             "#9c179e"
            ],
            [
             0.4444444444444444,
             "#bd3786"
            ],
            [
             0.5555555555555556,
             "#d8576b"
            ],
            [
             0.6666666666666666,
             "#ed7953"
            ],
            [
             0.7777777777777778,
             "#fb9f3a"
            ],
            [
             0.8888888888888888,
             "#fdca26"
            ],
            [
             1,
             "#f0f921"
            ]
           ]
          },
          "colorway": [
           "#636efa",
           "#EF553B",
           "#00cc96",
           "#ab63fa",
           "#FFA15A",
           "#19d3f3",
           "#FF6692",
           "#B6E880",
           "#FF97FF",
           "#FECB52"
          ],
          "font": {
           "color": "#2a3f5f"
          },
          "geo": {
           "bgcolor": "white",
           "lakecolor": "white",
           "landcolor": "#E5ECF6",
           "showlakes": true,
           "showland": true,
           "subunitcolor": "white"
          },
          "hoverlabel": {
           "align": "left"
          },
          "hovermode": "closest",
          "mapbox": {
           "style": "light"
          },
          "paper_bgcolor": "white",
          "plot_bgcolor": "#E5ECF6",
          "polar": {
           "angularaxis": {
            "gridcolor": "white",
            "linecolor": "white",
            "ticks": ""
           },
           "bgcolor": "#E5ECF6",
           "radialaxis": {
            "gridcolor": "white",
            "linecolor": "white",
            "ticks": ""
           }
          },
          "scene": {
           "xaxis": {
            "backgroundcolor": "#E5ECF6",
            "gridcolor": "white",
            "gridwidth": 2,
            "linecolor": "white",
            "showbackground": true,
            "ticks": "",
            "zerolinecolor": "white"
           },
           "yaxis": {
            "backgroundcolor": "#E5ECF6",
            "gridcolor": "white",
            "gridwidth": 2,
            "linecolor": "white",
            "showbackground": true,
            "ticks": "",
            "zerolinecolor": "white"
           },
           "zaxis": {
            "backgroundcolor": "#E5ECF6",
            "gridcolor": "white",
            "gridwidth": 2,
            "linecolor": "white",
            "showbackground": true,
            "ticks": "",
            "zerolinecolor": "white"
           }
          },
          "shapedefaults": {
           "line": {
            "color": "#2a3f5f"
           }
          },
          "ternary": {
           "aaxis": {
            "gridcolor": "white",
            "linecolor": "white",
            "ticks": ""
           },
           "baxis": {
            "gridcolor": "white",
            "linecolor": "white",
            "ticks": ""
           },
           "bgcolor": "#E5ECF6",
           "caxis": {
            "gridcolor": "white",
            "linecolor": "white",
            "ticks": ""
           }
          },
          "title": {
           "x": 0.05
          },
          "xaxis": {
           "automargin": true,
           "gridcolor": "white",
           "linecolor": "white",
           "ticks": "",
           "title": {
            "standoff": 15
           },
           "zerolinecolor": "white",
           "zerolinewidth": 2
          },
          "yaxis": {
           "automargin": true,
           "gridcolor": "white",
           "linecolor": "white",
           "ticks": "",
           "title": {
            "standoff": 15
           },
           "zerolinecolor": "white",
           "zerolinewidth": 2
          }
         }
        },
        "width": 1024
       }
      }
     },
     "metadata": {},
     "output_type": "display_data"
    }
   ],
   "source": [
    "fig = go.Figure()\n",
    "\n",
    "fig.add_traces(draw_cathode_planes(\n",
    "    geom_dict,\n",
    "    tpc_centers,\n",
    "    showscale=False,\n",
    "    opacity=0.3,\n",
    "    colorscale='gray',\n",
    "))\n",
    "\n",
    "fig.add_traces(draw_anode_planes(\n",
    "    geom_dict,\n",
    "    tpc_centers,\n",
    "    showscale=False,\n",
    "    opacity=0.3,\n",
    "    colorscale='ice',\n",
    "))\n",
    "\n",
    "\n",
    "trace = go.Scatter3d(\n",
    "        x=x, y=y, z=z,\n",
    "        marker_color=dQ,\n",
    "        name='larpix packets',\n",
    "        mode='markers',\n",
    "        visible='legendonly',\n",
    "        marker_size=2,\n",
    "        marker_symbol='square',\n",
    "        showlegend=True,\n",
    "        opacity=1.\n",
    "        )\n",
    "\n",
    "tracks = plot_tracks(seg_ev, \n",
    "                     mode=\"lines\",\n",
    "                     name=\"edep segments\",\n",
    "                     visible='legendonly',\n",
    "                     showlegend=True\n",
    "                     )\n",
    "\n",
    "fig.update_layout(\n",
    "    width=1024, height=768,\n",
    "    legend_orientation=\"h\",\n",
    "    scene = dict(\n",
    "        zaxis = dict(range=[-35,35],),),\n",
    "                     \n",
    ")\n",
    "\n",
    "fig.add_traces(trace)\n",
    "fig.add_traces(tracks)\n",
    "fig.show()\n",
    "#Make sure to click on the \"Larpix packets\" and \"edep segments\" icons on the plot so that they are visible!"
   ]
  },
  {
   "cell_type": "code",
   "execution_count": null,
   "id": "0e0ced88-e877-4c48-b192-87f34c03244b",
   "metadata": {},
   "outputs": [],
   "source": []
  }
 ],
 "metadata": {
  "kernelspec": {
   "display_name": "Python 3 (ipykernel)",
   "language": "python",
   "name": "python3"
  },
  "language_info": {
   "codemirror_mode": {
    "name": "ipython",
    "version": 3
   },
   "file_extension": ".py",
   "mimetype": "text/x-python",
   "name": "python",
   "nbconvert_exporter": "python",
   "pygments_lexer": "ipython3",
   "version": "3.9.6"
  }
 },
 "nbformat": 4,
 "nbformat_minor": 5
}
